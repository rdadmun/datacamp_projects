{
 "cells": [
  {
   "cell_type": "markdown",
   "metadata": {},
   "source": [
    "First application\n",
    "Let's run the FastAPI server for the first time! You can't run the FastAPI server directly with \"Run this file\" - see the instructions for how to run and stop the server from the terminal"
   ]
  },
  {
   "cell_type": "code",
   "execution_count": null,
   "metadata": {},
   "outputs": [],
   "source": [
    "from fastapi import FastAPI\n",
    "\n",
    "app = FastAPI()\n",
    "\n",
    "\n",
    "@app.get(\"/\")\n",
    "def root():\n",
    "    return {\"message\": \"Hello World\"}"
   ]
  },
  {
   "cell_type": "markdown",
   "metadata": {},
   "source": [
    "# Hello World\n",
    "\n",
    "Let's build your first GET endpoint! You can't run the FastAPI server directly with \"Run this file\" - see the instructions for how to run and stop the server from the terminal.\n",
    "\n",
    "Run the live server in the terminal: fastapi dev main.py.\n",
    "\n",
    "Test your code with the following command:\n",
    "curl http://localhost:8000"
   ]
  },
  {
   "cell_type": "code",
   "execution_count": null,
   "metadata": {},
   "outputs": [],
   "source": [
    "from fastapi import FastAPI\n",
    "\n",
    "app = FastAPI()\n",
    "\n",
    "\n",
    "@app.get(\"/\")\n",
    "def root():\n",
    "    return {\"message\": \"Hello World\"}\n"
   ]
  },
  {
   "cell_type": "markdown",
   "metadata": {},
   "source": [
    "# Hello who?\n",
    "Let's build your first GET endpoint that accepts an input! You can't run the FastAPI server directly with \"Run this file\" - see the instructions for how to run and stop the server from the terminal.\n",
    "\n",
    "Add a query parameter name with a default value \"Alan\".\n",
    "Return a dictionary with the key message and the value \"Hello {name}\".\n",
    "Run the live server in the terminal: fastapi dev main.py.\n",
    "Open a new terminal (top-right of terminal) and test your code with the following command:\n",
    "curl \\\n",
    "  -H 'Content-Type: application/json' \\\n",
    "  http://localhost:8000?name=Steve"
   ]
  },
  {
   "cell_type": "code",
   "execution_count": null,
   "metadata": {},
   "outputs": [],
   "source": [
    "from fastapi import FastAPI\n",
    "\n",
    "app = FastAPI()\n",
    "\n",
    "\n",
    "@app.get(\"/\")\n",
    "def root(name: str = \"Alan\"):\n",
    "    return {\"message\": f\"Hello {name}\"}\n"
   ]
  },
  {
   "cell_type": "markdown",
   "metadata": {},
   "source": [
    "## Pydantic model\n",
    "You've been asked to create an API endpoint that manages items in inventory. To get started, create a Pydantic model for Items that has attributes `name`, `quantity`, and `expiration`."
   ]
  },
  {
   "cell_type": "code",
   "execution_count": null,
   "metadata": {},
   "outputs": [],
   "source": [
    "# Import date\n",
    "from datetime import date\n",
    "\n",
    "# Import BaseModel\n",
    "from pydantic import BaseModel\n",
    "\n",
    "# Define model Item\n",
    "class Item(BaseModel):\n",
    "    name: str\n",
    "    quantity: int = 0\n",
    "    expiration: date = None"
   ]
  },
  {
   "cell_type": "markdown",
   "metadata": {},
   "source": [
    "# POST operation in action\n",
    "\n",
    "You've been asked to create an API endpoint that accepts a `name` parameter and returns a message saying \"We have `name`\". To accomplish this, create a Pydantic model for `Item` and root endpoint (`/`) that serves HTTP POST operations. The endpoint should accept the `Item` model as input and respond with a message including `Item.name`.\n",
    "\n",
    "You can't run the FastAPI server directly with \"Run this file\" - see the instructions for how to run the server and test your code from the terminal.\n"
   ]
  },
  {
   "cell_type": "code",
   "execution_count": null,
   "metadata": {},
   "outputs": [],
   "source": [
    "from fastapi import FastAPI\n",
    "from pydantic import BaseModel\n",
    "\n",
    "# Define model Item\n",
    "class Item(BaseModel):\n",
    "    name: str\n",
    "\n",
    "app = FastAPI()\n",
    "\n",
    "@app.post(\"/\")\n",
    "def root(item: Item):\n",
    "    name = item.name\n",
    "    return {\"message\": f\"We have {name}\"}"
   ]
  },
  {
   "cell_type": "markdown",
   "metadata": {},
   "source": [
    "# Chapter 2"
   ]
  },
  {
   "cell_type": "markdown",
   "metadata": {},
   "source": [
    "PUT operation in action\n",
    "You've been asked to create a PUT endpoint `/items` that accepts parameters `name` and `description` and updates the `description` based on the `name` in a key-value store called `items`.\n",
    "\n",
    "You can't run the FastAPI server directly with \"Run this file\" - see the instructions for how to run the server and test your code from the terminal."
   ]
  },
  {
   "cell_type": "markdown",
   "metadata": {},
   "source": [
    "curl -X PUT \\\n",
    "  -H 'Content-Type: application/json' \\\n",
    "  -d '{\"name\": \"bananas\", \"description\": \"Delicious!\"}' \\\n",
    "  http://localhost:8000/items"
   ]
  },
  {
   "cell_type": "code",
   "execution_count": null,
   "metadata": {},
   "outputs": [],
   "source": [
    "from fastapi import FastAPI\n",
    "from pydantic import BaseModel\n",
    "\n",
    "# Define model Item\n",
    "class Item(BaseModel):\n",
    "    name: str\n",
    "    description: str\n",
    "\n",
    "# Define items at application start\n",
    "items = {\"bananas\": \"Yellow fruit.\"}\n",
    "\n",
    "app = FastAPI()\n",
    "\n",
    "\n",
    "@app.put(\"/items\")\n",
    "def update_item(item: Item):\n",
    "    name = item.name\n",
    "    # Update the description\n",
    "    items[name] = item.description\n",
    "    return item"
   ]
  },
  {
   "cell_type": "markdown",
   "metadata": {},
   "source": [
    "# DELETE operation in action\n",
    "You've been asked to create a DELETE endpoint that accepts parameter `name` and deletes the item called `name` from a key store called `items`.\n",
    "\n",
    "You can't run the FastAPI server directly with \"Run this file\" - see the instructions for how to run the server and test your code from the terminal."
   ]
  },
  {
   "cell_type": "markdown",
   "metadata": {},
   "source": [
    "curl -X DELETE \\\n",
    "  -H 'Content-Type: application/json' \\\n",
    "  -d '{\"name\": \"bananas\"}' \\\n",
    "  http://localhost:8000/items"
   ]
  },
  {
   "cell_type": "code",
   "execution_count": null,
   "metadata": {},
   "outputs": [],
   "source": [
    "from fastapi import FastAPI\n",
    "from pydantic import BaseModel\n",
    "\n",
    "# Define model Item\n",
    "class Item(BaseModel):\n",
    "    name: str\n",
    "\n",
    "# Define items at application start\n",
    "items = {\"apples\", \"oranges\", \"bananas\"}\n",
    "\n",
    "app = FastAPI()\n",
    "\n",
    "\n",
    "@app.delete(\"/items\")\n",
    "def delete_item(item: Item):\n",
    "    name = item.name\n",
    "    # Delete the item\n",
    "    items.remove(name)\n",
    "    return {}"
   ]
  },
  {
   "cell_type": "markdown",
   "metadata": {},
   "source": [
    "Handling a client error\n",
    "You've been asked to create a DELETE endpoint that accepts parameter `name` and deletes the item called `name` from a key store called `items`. If the item is not found, the endpoint should return an appropriate status code and detailed message.\n",
    "\n",
    "You can't run the FastAPI server directly with \"Run this file\" - see the instructions for how to run the server and test your code from the terminal."
   ]
  },
  {
   "cell_type": "markdown",
   "metadata": {},
   "source": [
    "curl -X DELETE \\\n",
    "  -H 'Content-Type: application/json' \\\n",
    "  -d '{\"name\": \"bananas\"}' \\\n",
    "  http://localhost:8000/items"
   ]
  },
  {
   "cell_type": "code",
   "execution_count": null,
   "metadata": {},
   "outputs": [],
   "source": [
    "from fastapi import FastAPI, HTTPException\n",
    "from pydantic import BaseModel\n",
    "\n",
    "# Define model Item\n",
    "class Item(BaseModel):\n",
    "    name: str\n",
    "\n",
    "# Define items at application startupD\n",
    "items = {\"apples\", \"oranges\"}\n",
    "\n",
    "app = FastAPI()\n",
    "\n",
    "\n",
    "@app.delete(\"/items\")\n",
    "def delete_item(item: Item):\n",
    "    name = item.name\n",
    "    if name in items:\n",
    "        items.remove(name)\n",
    "    else:\n",
    "        # Raise HTTPException with status code for \"not found\"\n",
    "        raise HTTPException(status_code=404, detail=\"Item not found.\")\n",
    "    return {}"
   ]
  },
  {
   "cell_type": "markdown",
   "metadata": {},
   "source": [
    "Asynchronous DELETE operation\n",
    "You've been asked to create an API endpoint that deletes items managed by your API. To accomplish this, create an endpoint `/items` that serves HTTP DELETE operations. Make the endpoint asynchronous, so that your application can continue to serve requests while maintaining any long-running deletion tasks.\n",
    "\n",
    "We can't run the FastAPI server directly with \"Run this file\" - see the instructions for how to run the server and test your code from the terminal."
   ]
  },
  {
   "cell_type": "code",
   "execution_count": null,
   "metadata": {},
   "outputs": [],
   "source": [
    "from fastapi import FastAPI, HTTPException\n",
    "from pydantic import BaseModel\n",
    "\n",
    "# Define model Item\n",
    "class Item(BaseModel):\n",
    "    name: str\n",
    "\n",
    "app = FastAPI()\n",
    "\n",
    "items = {\"rock\", \"paper\", \"scissors\"}\n",
    "\n",
    "\n",
    "@app.delete(\"/items\")\n",
    "# Make asynchronous\n",
    "async def root(item: Item):\n",
    "    name = item.name\n",
    "    # Check if name is in items\n",
    "    if name not in items:\n",
    "        # Return the status code for not found\n",
    "        raise HTTPException(status_code=404, detail=\"Item not found.\")\n",
    "    items.remove(name)\n",
    "    return {\"message\": \"Item deleted\"}"
   ]
  },
  {
   "cell_type": "markdown",
   "metadata": {},
   "source": [
    "System test\n",
    "You've built your FastAPI application and added unit tests to verify code functionality. Writing a system test for an API endpoint will ensure that the endpoint works on the running application.\n",
    "\n",
    "We can't run the FastAPI server directly with \"Run this file\" - see the instructions for how to run the server and test your code from the terminal."
   ]
  },
  {
   "cell_type": "code",
   "execution_count": null,
   "metadata": {},
   "outputs": [],
   "source": [
    "# main.py\n",
    "\n",
    "from fastapi import FastAPI, HTTPException\n",
    "from pydantic import BaseModel\n",
    "from typing import Optional\n",
    "\n",
    "# define model Item\n",
    "class Item(BaseModel):\n",
    "    name: str\n",
    "    quantity: Optional[int] = 0\n",
    "\n",
    "app = FastAPI()\n",
    "\n",
    "items = {\"scissors\": Item(name=\"scissors\", quantity=100)}\n",
    "\n",
    "\n",
    "@app.get(\"/items\")\n",
    "def read(name: str):\n",
    "    if name not in items:\n",
    "        raise HTTPException(status_code=404, detail=\"Item not found\")\n",
    "    return items[name]"
   ]
  },
  {
   "cell_type": "code",
   "execution_count": null,
   "metadata": {},
   "outputs": [],
   "source": [
    "# system_test.py\n",
    "\n",
    "# Import TestClient\n",
    "from fastapi.testclient import TestClient\n",
    "from main import app\n",
    "\n",
    "# Create test client with application context\n",
    "client = TestClient(app)\n",
    "\n",
    "def test_main():\n",
    "    response = client.get(\"/items?name=scissors\")\n",
    "    assert response.status_code == 200\n",
    "    assert response.json() == {\"name\": \"scissors\",\n",
    "                               \"quantity\": 100}"
   ]
  },
  {
   "cell_type": "markdown",
   "metadata": {},
   "source": [
    "# Complete JSON CRUD API\n",
    "You've been asked to build a JSON CRUD API to manage item names and quantities. To test your API you need to create an item, read it, update it, delete, and verify it's been deleted.\n",
    "\n",
    "We can't run the FastAPI server directly with \"Run this file\" - see the instructions for how to run the server and test your code from the terminal."
   ]
  },
  {
   "cell_type": "markdown",
   "metadata": {},
   "source": [
    "curl -X POST \\\n",
    "  -H 'Content-Type: application/json' \\\n",
    "  -d '{\"name\": \"rock\"}' \\\n",
    "  http://localhost:8000/items\n",
    "\n",
    "curl http://localhost:8000/items?name=rock\n",
    "\n",
    "curl -X PUT \\\n",
    "  -H 'Content-Type: application/json' \\\n",
    "  -d '{\"name\": \"rock\", \"quantity\": 100}' \\\n",
    "  http://localhost:8000/items\n",
    "\n",
    "curl -X DELETE \\\n",
    "  -H 'Content-Type: application/json' \\\n",
    "  -d '{\"name\": \"rock\"}' \\\n",
    "  http://localhost:8000/items\n",
    "\n",
    "curl http://localhost:8000/items?name=roc"
   ]
  },
  {
   "cell_type": "code",
   "execution_count": null,
   "metadata": {},
   "outputs": [],
   "source": [
    "from fastapi import FastAPI, HTTPException\n",
    "from pydantic import BaseModel\n",
    "from typing import Optional\n",
    "\n",
    "# define model Item\n",
    "class Item(BaseModel):\n",
    "    name: str\n",
    "    quantity: Optional[int] = 0\n",
    "\n",
    "app = FastAPI()\n",
    "\n",
    "items = {}\n",
    "\n",
    "\n",
    "@app.post(\"/items\")\n",
    "def create(item: Item):\n",
    "    name = item.name\n",
    "    if name in items:\n",
    "        raise HTTPException(status_code=409, detail=\"Item exists\")\n",
    "    items[name] = item\n",
    "    return {\"message\": f\"Added {name} to items.\"}\n",
    "  \n",
    "@app.get(\"/items\")\n",
    "def read(name: str):\n",
    "    if name not in items:\n",
    "        raise HTTPException(status_code=404, detail=\"Item not found\")\n",
    "    return items[name]  \n",
    "  \n",
    "@app.put(\"/items\")\n",
    "def update(item: Item):\n",
    "    name = item.name\n",
    "    if name not in items:\n",
    "        raise HTTPException(status_code=404, detail=\"Item not found\")\n",
    "    items[name] = item\n",
    "    return {\"message\": f\"Updated {name}.\"}\n",
    "  \n",
    "@app.delete(\"/items\")\n",
    "def delete(item: Item):\n",
    "    name = item.name\n",
    "    if name not in items:\n",
    "        raise HTTPException(status_code=404, detail=\"Item not found\")\n",
    "    del items[name]\n",
    "    return {\"message\": f\"Deleted {name}.\"}"
   ]
  }
 ],
 "metadata": {
  "kernelspec": {
   "display_name": "myenv",
   "language": "python",
   "name": "python3"
  },
  "language_info": {
   "name": "python",
   "version": "3.13.2"
  }
 },
 "nbformat": 4,
 "nbformat_minor": 2
}
