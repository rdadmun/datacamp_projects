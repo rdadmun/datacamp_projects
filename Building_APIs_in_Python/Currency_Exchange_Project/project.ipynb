{
 "cells": [
  {
   "cell_type": "markdown",
   "metadata": {},
   "source": [
    "![Header image](resources/image.jpg)\n",
    "\n",
    "Exciting times! \n",
    "\n",
    "You've been running our very successful gadget webshop 'DataGadgets' for a few years and have recently expanded into new territories. While you've been focussed on the US market for the first five years of our existence, you now are shipping our cool data gadgets to the UK and Europe, too! But now our in-house built reporting has broken! Transactions don't only come in USD, but you're also receiving transactions in EUR and GPB. \n",
    "\n",
    "To better understand the volume of transactions being made, you should convert the non-USD transactions to USD and sum up the total. To do this, however, you'll need to use the proper exchange rates. \n",
    "\n",
    "In this project, you'll start with a CSV file containing all e-commerce transactions made on January 21st, but in their original currencies. Your job is to calculate the total sum in USD of all transactions so you know how much USD you sold on January 21st. To do this, you'll need to convert any non-USD transactions to USD using the exchange rate from January 21st, 2024. \n",
    "\n",
    "To get the exchange rates from January 21st, 2024, you'll rely on [VAT Comply rates API's](https://www.vatcomply.com/documentation#rates) public and free currency exchange API. You'll also use `pandas` to load the CSV file into a DataFrame and the `requests` package to make interacting with the API easier. \n",
    "\n",
    "You need to update the `orders` DataFrame so the final version has two new columns: `exchange_rate` and `amount_usd`. The final version should look as follows:\n",
    "\n",
    "| `amount` | `currency` | `exchange_rate` | `amount_usd` |\n",
    "|-|-|-|-|\n",
    "| 43.75 | EUR | ... | ... |\n",
    "| 385.5 | GBP | ... | ... |\n",
    "| 495.5 | GBP | ... | ... |\n",
    "| 117.99 | GBP | ... | ... |\n",
    "| 624 | USD | ... | ... |"
   ]
  },
  {
   "cell_type": "code",
   "execution_count": null,
   "metadata": {},
   "outputs": [],
   "source": [
    "# Import required packages/libraries\n",
    "import pandas as pd\n",
    "import requests\n",
    "\n",
    "# Read the CSV file into a DataFrame\n",
    "orders = pd.read_csv('data/orders-2024-01-21.csv')\n",
    "orders.head()"
   ]
  },
  {
   "cell_type": "code",
   "execution_count": null,
   "metadata": {},
   "outputs": [],
   "source": [
    "# Explore the data\n",
    "orders.describe()"
   ]
  },
  {
   "cell_type": "code",
   "execution_count": null,
   "metadata": {},
   "outputs": [],
   "source": [
    "# Fetch exchange rates from VAT Comply API\n",
    "api_url = \"https://api.vatcomply.com/rates?base=USD&date=2024-01-21\"\n",
    "params = {'base': 'USD', 'date': '2024-01-21'}\n",
    "response = requests.get(api_url, params=params)\n",
    "rates = response.json()[\"rates\"]"
   ]
  },
  {
   "cell_type": "code",
   "execution_count": null,
   "metadata": {},
   "outputs": [],
   "source": [
    "# Function to get exchange rate and convert to USD\n",
    "def convert_to_usd(row):\n",
    "    currency = row['currency']\n",
    "    if currency == 'USD':\n",
    "        row['exchange_rate'] = 1.0\n",
    "    else:\n",
    "        row['exchange_rate'] = rates.get(currency,1)\n",
    "    row['amount_usd'] = row['amount'] * row['exchange_rate']\n",
    "    return row"
   ]
  },
  {
   "cell_type": "code",
   "execution_count": null,
   "metadata": {},
   "outputs": [],
   "source": [
    "# Apply Conversion function\n",
    "orders = orders.apply(convert_to_usd, axis=1)\n",
    "# Check updated orders\n",
    "orders.head()"
   ]
  },
  {
   "cell_type": "code",
   "execution_count": null,
   "metadata": {},
   "outputs": [],
   "source": [
    "# Calculate total sales in USD\n",
    "total_sales_usd = orders['amount_usd'].sum()\n",
    "# Print to check\n",
    "print(f\"Total sales in USD: ${total_sales_usd:.2f}\")"
   ]
  },
  {
   "cell_type": "code",
   "execution_count": null,
   "metadata": {},
   "outputs": [],
   "source": [
    "# Ensure DataFrame matches required format\n",
    "orders = orders[[\"amount\", \"currency\", \"exchange_rate\", \"amount_usd\"]]\n",
    "orders.head()"
   ]
  }
 ],
 "metadata": {
  "kernelspec": {
   "display_name": "myenv",
   "language": "python",
   "name": "python3"
  },
  "language_info": {
   "name": "python",
   "version": "3.13.2"
  }
 },
 "nbformat": 4,
 "nbformat_minor": 2
}
